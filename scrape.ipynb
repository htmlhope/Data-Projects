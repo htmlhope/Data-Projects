{
 "cells": [
  {
   "cell_type": "code",
   "execution_count": 6,
   "source": [
    "#Importing our libraries\r\n",
    "import requests\r\n",
    "import smtplib\r\n",
    "import time\r\n",
    "import datetime\r\n",
    "\r\n",
    "from bs4 import BeautifulSoup"
   ],
   "outputs": [],
   "metadata": {}
  },
  {
   "cell_type": "code",
   "execution_count": 9,
   "source": [
    "#Connecting to the website\r\n",
    "URL = \"https://www.amazon.com/Science-Diet-Optimal-Chicken-Recipe/dp/B01BKECCO6/ref=sr_1_3_sspa?dchild=1&keywords=cat+food&qid=1631552568&sr=8-3-spons&psc=1&spLa=ZW5jcnlwdGVkUXVhbGlmaWVyPUEzS1M2SlhLR0RUVVJXJmVuY3J5cHRlZElkPUEwODYxMTg5MzM4SlE1Mk5ZNzIxMCZlbmNyeXB0ZWRBZElkPUEwNzMxOTQzM0pLODE0MkRHVjBNTCZ3aWRnZXROYW1lPXNwX2F0ZiZhY3Rpb249Y2xpY2tSZWRpcmVjdCZkb05vdExvZ0NsaWNrPXRydWU=\"\r\n",
    "headers = {\r\n",
    "    \"User-Agent\": \"Mozilla/5.0 (Windows NT 10.0; Win64; x64) AppleWebKit/537.36 (KHTML, like Gecko) Chrome/92.0.4515.159 Safari/537.36\", \r\n",
    "    \"X-Amzn-Trace-Id\": \"Root=1-613f7e56-369e6da74e468239596b34d3\"\r\n",
    "}"
   ],
   "outputs": [],
   "metadata": {}
  },
  {
   "cell_type": "code",
   "execution_count": 10,
   "source": [
    "#Pulling in the data\r\n",
    "page = requests.get(URL, headers=headers)\r\n",
    "\r\n",
    "soup1 = BeautifulSoup(page.content, \"html.parser\")\r\n",
    "\r\n",
    "soup2 = BeautifulSoup(soup1.prettify(), \"html.parser\")\r\n",
    "\r\n",
    "title = soup2.find(id='productTitle').get_text()\r\n",
    "price= soup2.find(id='priceblock_ourprice').get_text()\r\n",
    "\r\n",
    "print(title, price)"
   ],
   "outputs": [],
   "metadata": {}
  },
  {
   "cell_type": "code",
   "execution_count": 25,
   "source": [
    "#Cleaning up the data a little bit\r\n",
    "\r\n",
    "price = price.strip()[1:]\r\n",
    "title = title.strip()\r\n",
    "\r\n",
    "print(title)\r\n",
    "print(price)"
   ],
   "outputs": [
    {
     "output_type": "stream",
     "name": "stdout",
     "text": [
      "Hill's Science Diet Dry Cat Food, Adult, Chicken Recipe\n",
      "43.99\n"
     ]
    }
   ],
   "metadata": {}
  },
  {
   "cell_type": "code",
   "execution_count": 29,
   "source": [
    "#Creating a timestamp to track when data was pulled\r\n",
    "\r\n",
    "import datetime\r\n",
    "today = datetime.date.today()\r\n",
    "\r\n",
    "print(today)"
   ],
   "outputs": [
    {
     "output_type": "stream",
     "name": "stdout",
     "text": [
      "2021-09-17\n"
     ]
    }
   ],
   "metadata": {}
  },
  {
   "cell_type": "code",
   "execution_count": 31,
   "source": [
    "#Creating the csv file \r\n",
    "\r\n",
    "import csv\r\n",
    "\r\n",
    "header = ['Title', 'Price', 'Date']\r\n",
    "data = [title, price, today]\r\n",
    "\r\n",
    "with open('AmazonDataSet.csv', 'w', newline='', encoding = 'UTF8') as f:\r\n",
    "    writer = csv.writer(f)\r\n",
    "    writer.writerow(header)\r\n",
    "    writer.writerow(data)"
   ],
   "outputs": [],
   "metadata": {}
  },
  {
   "cell_type": "code",
   "execution_count": 41,
   "source": [
    "import pandas as pd\r\n",
    "df = pd.read_csv(r'C:\\Users\\hopet\\Desktop\\Web Scraping\\AmazonDataSet.csv')\r\n"
   ],
   "outputs": [],
   "metadata": {}
  },
  {
   "cell_type": "code",
   "execution_count": 36,
   "source": [
    "#Appending data to the csv\r\n",
    "\r\n",
    "with open('AmazonDataSet.csv', 'a+', newline='', encoding = 'UTF8') as f:\r\n",
    "    writer = csv.writer(f)\r\n",
    "    writer.writerow(data)"
   ],
   "outputs": [],
   "metadata": {}
  },
  {
   "cell_type": "code",
   "execution_count": 38,
   "source": [
    "#Combining all the code into one function\r\n",
    "\r\n",
    "def check_price():\r\n",
    "    URL = \"https://www.amazon.com/Science-Diet-Optimal-Chicken-Recipe/dp/B01BKECCO6/ref=sr_1_3_sspa?dchild=1&keywords=cat+food&qid=1631552568&sr=8-3-spons&psc=1&spLa=ZW5jcnlwdGVkUXVhbGlmaWVyPUEzS1M2SlhLR0RUVVJXJmVuY3J5cHRlZElkPUEwODYxMTg5MzM4SlE1Mk5ZNzIxMCZlbmNyeXB0ZWRBZElkPUEwNzMxOTQzM0pLODE0MkRHVjBNTCZ3aWRnZXROYW1lPXNwX2F0ZiZhY3Rpb249Y2xpY2tSZWRpcmVjdCZkb05vdExvZ0NsaWNrPXRydWU=\"\r\n",
    "    headers = {\r\n",
    "    \"User-Agent\": \"Mozilla/5.0 (Windows NT 10.0; Win64; x64) AppleWebKit/537.36 (KHTML, like Gecko) Chrome/92.0.4515.159 Safari/537.36\", \r\n",
    "    \"X-Amzn-Trace-Id\": \"Root=1-613f7e56-369e6da74e468239596b34d3\"\r\n",
    "}\r\n",
    "    page = requests.get(URL, headers=headers)\r\n",
    "\r\n",
    "    soup1 = BeautifulSoup(page.content, \"html.parser\")\r\n",
    "\r\n",
    "    soup2 = BeautifulSoup(soup1.prettify(), \"html.parser\")\r\n",
    "\r\n",
    "    title = soup2.find(id='productTitle').get_text()\r\n",
    "\r\n",
    "    price= soup2.find(id='priceblock_ourprice').get_text()\r\n",
    "\r\n",
    "    price = price.strip()[1:]\r\n",
    "    title = title.strip()\r\n",
    "\r\n",
    "    import datetime\r\n",
    "    today = datetime.date.today()\r\n",
    "\r\n",
    "    import csv\r\n",
    "    header = ['Title', 'Price', 'Date']\r\n",
    "    data = [title, price, today]  \r\n",
    "    \r\n",
    "    with open('AmazonDataSet.csv', 'a+', newline='', encoding = 'UTF8') as f:\r\n",
    "     writer = csv.writer(f)\r\n",
    "     writer.writerow(data)  \r\n"
   ],
   "outputs": [],
   "metadata": {}
  },
  {
   "cell_type": "code",
   "execution_count": 39,
   "source": [
    "#Running check_price after a certain interval of time\r\n",
    "\r\n",
    "while(True):\r\n",
    "    check_price()\r\n",
    "    time.sleep(86400)"
   ],
   "outputs": [
    {
     "output_type": "error",
     "ename": "KeyboardInterrupt",
     "evalue": "",
     "traceback": [
      "\u001b[1;31m---------------------------------------------------------------------------\u001b[0m",
      "\u001b[1;31mKeyboardInterrupt\u001b[0m                         Traceback (most recent call last)",
      "\u001b[1;32m~\\AppData\\Local\\Temp/ipykernel_11424/2291293585.py\u001b[0m in \u001b[0;36m<module>\u001b[1;34m\u001b[0m\n\u001b[0;32m      1\u001b[0m \u001b[1;32mwhile\u001b[0m\u001b[1;33m(\u001b[0m\u001b[1;32mTrue\u001b[0m\u001b[1;33m)\u001b[0m\u001b[1;33m:\u001b[0m\u001b[1;33m\u001b[0m\u001b[1;33m\u001b[0m\u001b[0m\n\u001b[0;32m      2\u001b[0m     \u001b[0mcheck_price\u001b[0m\u001b[1;33m(\u001b[0m\u001b[1;33m)\u001b[0m\u001b[1;33m\u001b[0m\u001b[1;33m\u001b[0m\u001b[0m\n\u001b[1;32m----> 3\u001b[1;33m     \u001b[0mtime\u001b[0m\u001b[1;33m.\u001b[0m\u001b[0msleep\u001b[0m\u001b[1;33m(\u001b[0m\u001b[1;36m5\u001b[0m\u001b[1;33m)\u001b[0m\u001b[1;33m\u001b[0m\u001b[1;33m\u001b[0m\u001b[0m\n\u001b[0m",
      "\u001b[1;31mKeyboardInterrupt\u001b[0m: "
     ]
    }
   ],
   "metadata": {}
  },
  {
   "cell_type": "code",
   "execution_count": 42,
   "source": [
    "import pandas as pd\r\n",
    "df = pd.read_csv(r'C:\\Users\\hopet\\Desktop\\Web Scraping\\AmazonDataSet.csv')\r\n"
   ],
   "outputs": [],
   "metadata": {}
  },
  {
   "cell_type": "code",
   "execution_count": null,
   "source": [],
   "outputs": [],
   "metadata": {}
  }
 ],
 "metadata": {
  "orig_nbformat": 4,
  "language_info": {
   "name": "python",
   "version": "3.9.6",
   "mimetype": "text/x-python",
   "codemirror_mode": {
    "name": "ipython",
    "version": 3
   },
   "pygments_lexer": "ipython3",
   "nbconvert_exporter": "python",
   "file_extension": ".py"
  },
  "kernelspec": {
   "name": "python3",
   "display_name": "Python 3.9.6 64-bit ('minimal_ds': conda)"
  },
  "interpreter": {
   "hash": "3a2528d5d230f9d226069090840633166e81198f0bd30aa10810d040f63f7ca8"
  }
 },
 "nbformat": 4,
 "nbformat_minor": 2
}